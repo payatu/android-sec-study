{
 "cells": [
  {
   "cell_type": "code",
   "execution_count": 2,
   "id": "c468fd60",
   "metadata": {},
   "outputs": [
    {
     "name": "stdout",
     "output_type": "stream",
     "text": [
      "['apps', 'manifest', 'new_man']\n"
     ]
    }
   ],
   "source": [
    "# Initialize & Establish MongoDB Connection\n",
    "from pymongo import MongoClient\n",
    "from pandas import DataFrame\n",
    "import pandas as pd\n",
    "import urllib.parse\n",
    "%matplotlib inline\n",
    "from matplotlib_venn import venn3\n",
    "from matplotlib_venn import venn3_unweighted\n",
    "import matplotlib.pyplot as plt\n",
    "import numpy as np\n",
    "import json\n",
    "import ast\n",
    "\n",
    "def batched(cur, batch_size):\n",
    "    batch = []\n",
    "    for doc in cur:\n",
    "        batch.append(doc)\n",
    "        if batch and not len(batch) % batch_size:\n",
    "            yield batch\n",
    "            batch = []\n",
    "    if batch:  \n",
    "        yield batch\n",
    "        \n",
    "def process_query(col,query):\n",
    "    cur = db[col].aggregate(query,allowDiskUse = True)\n",
    "\n",
    "    df = pd.DataFrame()\n",
    "    for batch in batched(cur, 10000):\n",
    "        dfb = pd.DataFrame(list(batch))\n",
    "        df = pd.concat([df, dfb])\n",
    "        \n",
    "    return df\n",
    "\n",
    "mongo_host = \"10.0.0.1\"\n",
    "mongo_port = 27017\n",
    "\n",
    "mongo_user = \"root\"\n",
    "mongo_pass = \"\"  \n",
    "\n",
    "auth_db = \"admin\" \n",
    "\n",
    "client = MongoClient(f'mongodb://{mongo_user}:{urllib.parse.quote_plus(mongo_pass)}@{mongo_host}:{mongo_port}/{auth_db}') \n",
    "db = client.android\n",
    "\n",
    "colist = db.list_collection_names()\n",
    "print(colist)"
   ]
  },
  {
   "cell_type": "code",
   "execution_count": 3,
   "id": "0c48ad1e",
   "metadata": {},
   "outputs": [],
   "source": [
    "col = 'apps'\n",
    "query = [{ \"$sort\": {\"InstallsMax\": -1}},{ \"$project\": {\"_id\": '$ID', \"Name\": '$Title', \"Downloads\": '$InstallsMax'}}]\n",
    "apps_ranked = process_query(col,query)"
   ]
  },
  {
   "cell_type": "code",
   "execution_count": 4,
   "id": "d7afbae8",
   "metadata": {},
   "outputs": [],
   "source": [
    "apps_top_50k = apps_ranked.head(50000)\n",
    "apps_top_50k.to_csv(\"/apps-top-50k.csv\", sep=',')"
   ]
  },
  {
   "cell_type": "code",
   "execution_count": 5,
   "id": "579033d5",
   "metadata": {},
   "outputs": [
    {
     "name": "stdout",
     "output_type": "stream",
     "text": [
      "                                           _id  \\\n",
      "0                       com.google.android.gms   \n",
      "1                   com.google.android.youtube   \n",
      "2                       com.google.android.tts   \n",
      "3                           com.android.chrome   \n",
      "4                 com.google.android.apps.maps   \n",
      "...                                        ...   \n",
      "9995  co.pamobile.gamestudio.jurassicdinosaurs   \n",
      "9996                 com.midinero.mobile.myapp   \n",
      "9997      com.ma.chained.cars.stunts.freegames   \n",
      "9998           com.cb.myvacation.realadventure   \n",
      "9999            com.laurencedawson.reddit_sync   \n",
      "\n",
      "                                Name    Downloads  \n",
      "0               Google Play services  16086100890  \n",
      "1                            YouTube  13553071138  \n",
      "2          Speech Services by Google  12956902114  \n",
      "3       Google Chrome: Fast & Secure  12788965530  \n",
      "4                        Google Maps  12788268330  \n",
      "...                              ...          ...  \n",
      "9995  Dino Sim Dinosaur City Rampage      1228542  \n",
      "9996                    Midinero App      1228537  \n",
      "9997  Chained Cars Impossible Stunts      1228523  \n",
      "9998             Toon Town: Vacation      1228458  \n",
      "9999                 Sync for Reddit      1228372  \n",
      "\n",
      "[50000 rows x 3 columns]\n"
     ]
    }
   ],
   "source": [
    "print(apps_top_50k)"
   ]
  },
  {
   "cell_type": "code",
   "execution_count": null,
   "id": "caca0a7c",
   "metadata": {},
   "outputs": [],
   "source": []
  }
 ],
 "metadata": {
  "kernelspec": {
   "display_name": "Python 3 (ipykernel)",
   "language": "python",
   "name": "python3"
  },
  "language_info": {
   "codemirror_mode": {
    "name": "ipython",
    "version": 3
   },
   "file_extension": ".py",
   "mimetype": "text/x-python",
   "name": "python",
   "nbconvert_exporter": "python",
   "pygments_lexer": "ipython3",
   "version": "3.10.6"
  }
 },
 "nbformat": 4,
 "nbformat_minor": 5
}
